{
  "cells": [
    {
      "cell_type": "markdown",
      "metadata": {
        "id": "view-in-github",
        "colab_type": "text"
      },
      "source": [
        "<a href=\"https://colab.research.google.com/github/Condemor-bit/esmiprimeritodia/blob/main/Subtitle%20videos%20with%20IA.ipynb\" target=\"_parent\"><img src=\"https://colab.research.google.com/assets/colab-badge.svg\" alt=\"Open In Colab\"/></a>"
      ]
    },
    {
      "cell_type": "markdown",
      "metadata": {
        "id": "Ee_o1zQmE_nh"
      },
      "source": [
        "# **Entorno de ejecucion --->  cambiar tipo de entorno de ejeccucion --> seleccionar GPU**"
      ]
    },
    {
      "cell_type": "code",
      "execution_count": null,
      "metadata": {
        "id": "SJl7HJOeo0-P"
      },
      "outputs": [],
      "source": [
        "!pip install git+https://github.com/openai/whisper.git\n",
        "!pip install youtube-dl\n",
        "!pip install googletrans==3.1.0a0\n",
        "import numpy as np\n",
        "import ffmpeg\n",
        "import youtube_dl\n",
        "from googletrans import Translator\n",
        "from google.colab import drive\n",
        "from google.colab import files"
      ]
    },
    {
      "cell_type": "code",
      "execution_count": null,
      "metadata": {
        "id": "7_dsW1ZfSPFp"
      },
      "outputs": [],
      "source": [
        "### for work with google drive remove # below //borra las siguientes # para trabajar en google drive\n",
        "drive.mount('/content/drive')  \n",
        "%cd drive/MyDrive/\n",
        "!ls"
      ]
    },
    {
      "cell_type": "code",
      "execution_count": null,
      "metadata": {
        "id": "dhs6zA7SMevR"
      },
      "outputs": [],
      "source": [
        "#!youtube-dl -F  'LINK URL' #con este compruebas la formatos disponibles // check available formats "
      ]
    },
    {
      "cell_type": "code",
      "execution_count": null,
      "metadata": {
        "id": "0YpfV-sKHasg"
      },
      "outputs": [],
      "source": [
        "!youtube-dl -f best -o videoname.mp4 'LINK URL' ## <----put video link here // link del video entrecomillado ' '\n"
      ]
    },
    {
      "cell_type": "code",
      "execution_count": null,
      "metadata": {
        "id": "UlVRSbPC7IRJ"
      },
      "outputs": [],
      "source": [
        "!whisper videoname.mp4 --task translate --model large #se puede seguir con videos subidos manualmente desde aqui // if you upload manually a video, you can continue form here"
      ]
    },
    {
      "cell_type": "code",
      "execution_count": null,
      "metadata": {
        "id": "VDenefeJ7tp-"
      },
      "outputs": [],
      "source": [
        "#Crea los sub en Spanish // se puede cambiat en des=' ' // can change the subtitles output in dest=' ' \n",
        "###============================Traduce el subtitulo=======================================================\n",
        "with open('videoname.mp4.srt') as file:  #<---------------------- Check the name of the file // comprueba el nombre del archivo\n",
        "    for line in file:\n",
        "        paratra=(file.readlines())\n",
        "jle = [line for line in paratra if line.strip()]\n",
        "traduccion=[]\n",
        "for lines in jle:\n",
        "    translator=Translator()\n",
        "#=========================================================================================================================================\n",
        "    result = translator.translate(lines, src='en', dest='es')#### source= english (en) destination= spanish (es)\n",
        "########## <--- change argument for translate into other language // cambia el argumento para poner otras lenguas (google translate)\n",
        "#=========================================================================================================================================\n",
        "    traduccion.append(result.text)\n",
        "traduccion.insert(0, '1')\n",
        "r = []\n",
        "for i, v in enumerate(traduccion):\n",
        "  r.append(v)\n",
        "  if (i-2)%3==0:\n",
        "    r.append(\"\\n\")\n",
        "###crea y guarda el .srt \n",
        "with open('espanol.srt', mode='w') as file_object:\n",
        "    for lineas in r:\n",
        "        print(lineas, file=file_object)"
      ]
    },
    {
      "cell_type": "code",
      "execution_count": null,
      "metadata": {
        "id": "MoLHxDt6K_ic"
      },
      "outputs": [],
      "source": [
        "#========================================================================================================================================================================\n",
        " ##### add the name of subtitles created by whisper and google translate in subtitles= .srt // añade los subtitulos creados por whisper y google trans en subtitles= .srt "
      ]
    },
    {
      "cell_type": "code",
      "execution_count": null,
      "metadata": {
        "id": "BwkLbagc_hLk"
      },
      "outputs": [],
      "source": [
        "!ffmpeg -i videoname.mp4 -vf subtitles=videoname.mp4.srt english_version.mp4 ### English version"
      ]
    },
    {
      "cell_type": "code",
      "execution_count": null,
      "metadata": {
        "id": "H3htM0oW_jm9"
      },
      "outputs": [],
      "source": [
        "!ffmpeg -i videoname.mp4 -vf subtitles=espanol.srt spanish_version.mp4 ### Spanish version"
      ]
    },
    {
      "cell_type": "code",
      "execution_count": null,
      "metadata": {
        "id": "-sUGIlbn-6lJ"
      },
      "outputs": [],
      "source": [
        "files.download('english_version.mp4') # Download english version"
      ]
    },
    {
      "cell_type": "code",
      "execution_count": null,
      "metadata": {
        "id": "gqq6iHQI_4A0"
      },
      "outputs": [],
      "source": [
        "files.download('spanish_version.mp4') # Descarga spanish version"
      ]
    }
  ],
  "metadata": {
    "accelerator": "GPU",
    "colab": {
      "provenance": [],
      "include_colab_link": true
    },
    "gpuClass": "standard",
    "kernelspec": {
      "display_name": "Python 3 (ipykernel)",
      "language": "python",
      "name": "python3"
    },
    "language_info": {
      "codemirror_mode": {
        "name": "ipython",
        "version": 3
      },
      "file_extension": ".py",
      "mimetype": "text/x-python",
      "name": "python",
      "nbconvert_exporter": "python",
      "pygments_lexer": "ipython3",
      "version": "3.9.9"
    }
  },
  "nbformat": 4,
  "nbformat_minor": 0
}