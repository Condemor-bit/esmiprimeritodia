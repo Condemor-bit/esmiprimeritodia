{
  "cells": [
    {
      "cell_type": "markdown",
      "metadata": {
        "id": "view-in-github",
        "colab_type": "text"
      },
      "source": [
        "<a href=\"https://colab.research.google.com/github/Condemor-bit/esmiprimeritodia/blob/main/Download%20%26%20subtitles%20with%20IA.ipynb\" target=\"_parent\"><img src=\"https://colab.research.google.com/assets/colab-badge.svg\" alt=\"Open In Colab\"/></a>"
      ]
    },
    {
      "cell_type": "markdown",
      "source": [
        "# **Entorno de ejecucion --->  cambiar tipo de entorno de ejeccucion --> seleccionar GPU**"
      ],
      "metadata": {
        "id": "Ee_o1zQmE_nh"
      }
    },
    {
      "cell_type": "code",
      "execution_count": null,
      "metadata": {
        "cellView": "form",
        "id": "SJl7HJOeo0-P"
      },
      "outputs": [],
      "source": [
        "#@title Ejecutar esta celda para instalar las librería. // Press to Play\n",
        "\"\"\"\n",
        "this cell code is taken from Notebook = OpenAI Whisper - Adaptado por DotCSV https://www.youtube.com/watch?v=JuMEmF-2FsA\n",
        "----\n",
        "To write this piece of code I took inspiration/code from a lot of places.\n",
        "It was late night, so I'm not sure how much I created or just copied o.O\n",
        "Here are some of the possible references:\n",
        "https://blog.addpipe.com/recording-audio-in-the-browser-using-pure-html5-and-minimal-javascript/\n",
        "https://stackoverflow.com/a/18650249\n",
        "https://hacks.mozilla.org/2014/06/easy-audio-capture-with-the-mediarecorder-api/\n",
        "https://air.ghost.io/recording-to-an-audio-file-using-html5-and-js/\n",
        "https://stackoverflow.com/a/49019356\n",
        "\n",
        "\"\"\"\n",
        "\n",
        "!pip install git+https://github.com/openai/whisper.git\n",
        "!pip install jiwer\n",
        "!pip install youtube-dl\n",
        "!pip install googletrans==3.1.0a0\n",
        "\n",
        "from IPython.display import HTML, Audio\n",
        "from google.colab.output import eval_js\n",
        "from base64 import b64decode\n",
        "import numpy as np\n",
        "from scipy.io.wavfile import read as wav_read\n",
        "import io\n",
        "import ffmpeg\n",
        "import youtube_dl\n",
        "from googletrans import Translator\n",
        "from google.colab import drive\n",
        "from google.colab import files\n",
        "\n",
        "AUDIO_HTML = \"\"\"\n",
        "<script>\n",
        "var my_div = document.createElement(\"DIV\");\n",
        "var my_p = document.createElement(\"P\");\n",
        "var my_btn = document.createElement(\"BUTTON\");\n",
        "var t = document.createTextNode(\"Press to start recording\");\n",
        "\n",
        "my_btn.appendChild(t);\n",
        "//my_p.appendChild(my_btn);\n",
        "my_div.appendChild(my_btn);\n",
        "document.body.appendChild(my_div);\n",
        "\n",
        "var base64data = 0;\n",
        "var reader;\n",
        "var recorder, gumStream;\n",
        "var recordButton = my_btn;\n",
        "\n",
        "var handleSuccess = function(stream) {\n",
        "  gumStream = stream;\n",
        "  var options = {\n",
        "    //bitsPerSecond: 8000, //chrome seems to ignore, always 48k\n",
        "    mimeType : 'audio/webm;codecs=opus'\n",
        "    //mimeType : 'audio/webm;codecs=pcm'\n",
        "  };            \n",
        "  //recorder = new MediaRecorder(stream, options);\n",
        "  recorder = new MediaRecorder(stream);\n",
        "  recorder.ondataavailable = function(e) {            \n",
        "    var url = URL.createObjectURL(e.data);\n",
        "    var preview = document.createElement('audio');\n",
        "    preview.controls = true;\n",
        "    preview.src = url;\n",
        "    document.body.appendChild(preview);\n",
        "\n",
        "    reader = new FileReader();\n",
        "    reader.readAsDataURL(e.data); \n",
        "    reader.onloadend = function() {\n",
        "      base64data = reader.result;\n",
        "      //console.log(\"Inside FileReader:\" + base64data);\n",
        "    }\n",
        "  };\n",
        "  recorder.start();\n",
        "  };\n",
        "\n",
        "recordButton.innerText = \"Recording... press to stop\";\n",
        "\n",
        "navigator.mediaDevices.getUserMedia({audio: true}).then(handleSuccess);\n",
        "\n",
        "\n",
        "function toggleRecording() {\n",
        "  if (recorder && recorder.state == \"recording\") {\n",
        "      recorder.stop();\n",
        "      gumStream.getAudioTracks()[0].stop();\n",
        "      recordButton.innerText = \"Saving the recording... pls wait!\"\n",
        "  }\n",
        "}\n",
        "\n",
        "// https://stackoverflow.com/a/951057\n",
        "function sleep(ms) {\n",
        "  return new Promise(resolve => setTimeout(resolve, ms));\n",
        "}\n",
        "\n",
        "var data = new Promise(resolve=>{\n",
        "//recordButton.addEventListener(\"click\", toggleRecording);\n",
        "recordButton.onclick = ()=>{\n",
        "toggleRecording()\n",
        "\n",
        "sleep(2000).then(() => {\n",
        "  // wait 2000ms for the data to be available...\n",
        "  // ideally this should use something like await...\n",
        "  //console.log(\"Inside data:\" + base64data)\n",
        "  resolve(base64data.toString())\n",
        "\n",
        "});\n",
        "\n",
        "}\n",
        "});\n",
        "      \n",
        "</script>\n",
        "\"\"\"\n",
        "\n",
        "def get_audio():\n",
        "  display(HTML(AUDIO_HTML))\n",
        "  data = eval_js(\"data\")\n",
        "  binary = b64decode(data.split(',')[1])\n",
        "  \n",
        "  process = (ffmpeg\n",
        "    .input('pipe:0')\n",
        "    .output('pipe:1', format='wav')\n",
        "    .run_async(pipe_stdin=True, pipe_stdout=True, pipe_stderr=True, quiet=True, overwrite_output=True)\n",
        "  )\n",
        "  output, err = process.communicate(input=binary)\n",
        "  \n",
        "  riff_chunk_size = len(output) - 8\n",
        "  # Break up the chunk size into four bytes, held in b.\n",
        "  q = riff_chunk_size\n",
        "  b = []\n",
        "  for i in range(4):\n",
        "      q, r = divmod(q, 256)\n",
        "      b.append(r)\n",
        "\n",
        "  # Replace bytes 4:8 in proc.stdout with the actual size of the RIFF chunk.\n",
        "  riff = output[:4] + bytes(b) + output[8:]\n",
        "\n",
        "  sr, audio = wav_read(io.BytesIO(riff))\n",
        "\n",
        "  return audio, sr"
      ]
    },
    {
      "cell_type": "code",
      "execution_count": null,
      "metadata": {
        "id": "7_dsW1ZfSPFp"
      },
      "outputs": [],
      "source": [
        "### for work with google drive remove # below //borra las siguientes # para trabajar en google drive\n",
        "#drive.mount('/content/drive')  \n",
        "#%cd drive/MyDrive/\n",
        "#!ls"
      ]
    },
    {
      "cell_type": "code",
      "source": [
        "#!youtube-dl -F  'URL LINK' #con este compruebas la formatos disponibles // check available formats"
      ],
      "metadata": {
        "id": "dhs6zA7SMevR"
      },
      "execution_count": null,
      "outputs": []
    },
    {
      "cell_type": "code",
      "source": [
        "!youtube-dl  -o videoname.mp4 -f best 'URL LINK' ## <----put video link here whitin ' ' // link del video entrecomillado ' '"
      ],
      "metadata": {
        "id": "0YpfV-sKHasg"
      },
      "execution_count": null,
      "outputs": []
    },
    {
      "cell_type": "code",
      "execution_count": null,
      "metadata": {
        "id": "UlVRSbPC7IRJ"
      },
      "outputs": [],
      "source": [
        "!whisper videoname.mp4 --task translate --model medium #se puede seguir con videos subidos manualmente desde aqui // if you upload manually a video, you can continue form here"
      ]
    },
    {
      "cell_type": "code",
      "source": [
        "#@title Crea los sub en Spanish // se puede cambiat en des=' ' // can change the subtitles output in dest=' ' \n",
        "###============================Traduce el subtitulo=======================================================\n",
        "with open('videoname.mp4.srt') as file:\n",
        "    for line in file:\n",
        "        paratra=(file.readlines())\n",
        "jodernosale = [line for line in paratra if line.strip()]\n",
        "traduccion=[]\n",
        "for lines in jodernosale:\n",
        "    translator=Translator()\n",
        "#=========================================================================================================================================\n",
        "    result = translator.translate(lines, src='en', dest='es')#### source= english (en) destination= spanish (es)\n",
        "########## <--- change argument for translate into other language // cambia el argumento para poner otras lenguas (google translate)\n",
        "#=========================================================================================================================================\n",
        "    traduccion.append(result.text)\n",
        "traduccion.insert(0, '1')\n",
        "r = []\n",
        "for i, v in enumerate(traduccion):\n",
        "  r.append(v)\n",
        "  if (i-2)%3==0:\n",
        "    r.append(\"\\n\")\n",
        "###crea y guarda el .srt \n",
        "with open('espanol.srt', mode='w') as file_object:\n",
        "    for lineas in r:\n",
        "        print(lineas, file=file_object)"
      ],
      "metadata": {
        "id": "VDenefeJ7tp-"
      },
      "execution_count": null,
      "outputs": []
    },
    {
      "cell_type": "code",
      "source": [
        "#========================================================================================================================================================================\n",
        " ##### add the name of subtitles created by whisper and google trans in subtitles= .srt // añade los subtitulos creados por whisper y google trans en subtitles= .srt "
      ],
      "metadata": {
        "id": "MoLHxDt6K_ic"
      },
      "execution_count": null,
      "outputs": []
    },
    {
      "cell_type": "code",
      "source": [
        "!ffmpeg -i videoname.mp4 -vf subtitles=nombrearchivo english_version.mp4 ### English version"
      ],
      "metadata": {
        "id": "BwkLbagc_hLk"
      },
      "execution_count": null,
      "outputs": []
    },
    {
      "cell_type": "code",
      "source": [
        "!ffmpeg -i videoname.mp4 -vf subtitles=espanol.srt spanish_version.mp4 ### Spanish version"
      ],
      "metadata": {
        "id": "H3htM0oW_jm9"
      },
      "execution_count": null,
      "outputs": []
    },
    {
      "cell_type": "code",
      "source": [
        "files.download('english_version.mp4') # Save english version"
      ],
      "metadata": {
        "id": "-sUGIlbn-6lJ"
      },
      "execution_count": null,
      "outputs": []
    },
    {
      "cell_type": "code",
      "source": [
        "files.download('spanish_version.mp4') # Save spanish version"
      ],
      "metadata": {
        "id": "gqq6iHQI_4A0"
      },
      "execution_count": null,
      "outputs": []
    }
  ],
  "metadata": {
    "accelerator": "GPU",
    "colab": {
      "provenance": [],
      "include_colab_link": true
    },
    "gpuClass": "standard",
    "kernelspec": {
      "display_name": "Python 3 (ipykernel)",
      "language": "python",
      "name": "python3"
    },
    "language_info": {
      "codemirror_mode": {
        "name": "ipython",
        "version": 3
      },
      "file_extension": ".py",
      "mimetype": "text/x-python",
      "name": "python",
      "nbconvert_exporter": "python",
      "pygments_lexer": "ipython3",
      "version": "3.9.9"
    }
  },
  "nbformat": 4,
  "nbformat_minor": 0
}